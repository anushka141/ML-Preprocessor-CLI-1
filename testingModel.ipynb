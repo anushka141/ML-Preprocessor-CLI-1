{
 "cells": [
  {
   "cell_type": "markdown",
   "metadata": {},
   "source": [
    "# Evaluate the model taking image input from MS-Paint"
   ]
  },
  {
   "cell_type": "code",
   "execution_count": 93,
   "metadata": {},
   "outputs": [],
   "source": [
    "import tensorflow as tf \n",
    "from tensorflow.keras.models import load_model\n",
    "import matplotlib.pyplot as plt"
   ]
  },
  {
   "cell_type": "code",
   "execution_count": 94,
   "metadata": {},
   "outputs": [],
   "source": [
    "# Loading our trained model\n",
    "model = tf.keras.models.load_model('Handwritten.keras')"
   ]
  },
  {
   "cell_type": "code",
   "execution_count": 98,
   "metadata": {},
   "outputs": [],
   "source": [
    "# In case you want to change the input image, It's ADVISABLE to change input image name from both testModel.py and this cell.\n",
    "import cv2 \n",
    "import tensorflow as tf \n",
    "import numpy as np\n",
    "# Reading image\n",
    "myImage = cv2.imread('sample.png')                       # CHANGE IMAGE NAME HERE\n",
    "# Converting image into gray from RGB\n",
    "convertedImage = cv2.cvtColor(myImage, cv2.COLOR_BGR2GRAY)\n",
    "\n",
    "# Preparing it for kernel operation\n",
    "# Resizing and adjusting pixels of the image\n",
    "resizedImage = cv2.resize(convertedImage, (28,28), interpolation = cv2.INTER_AREA)\n",
    "# Scaling from 0 to 1\n",
    "newImage = tf.keras.utils.normalize(resizedImage, axis = 1)\n",
    "\n",
    "# Kernal operation of CNN layer \n",
    "IMG_SIZE = 28\n",
    "newImage = np.array(newImage).reshape(-1, IMG_SIZE, IMG_SIZE, 1)   "
   ]
  },
  {
   "cell_type": "code",
   "execution_count": 99,
   "metadata": {
    "scrolled": true
   },
   "outputs": [
    {
     "data": {
      "text/plain": [
       "<matplotlib.image.AxesImage at 0x18f8a16d340>"
      ]
     },
     "execution_count": 99,
     "metadata": {},
     "output_type": "execute_result"
    },
    {
     "data": {
      "image/png": "[encoded data removed]",
      "text/plain": [
       "<Figure size 432x288 with 1 Axes>"
      ]
     },
     "metadata": {
      "needs_background": "light"
     },
     "output_type": "display_data"
    }
   ],
   "source": [
    "# Getting to know how the input image looks like(Not from any of test sets)\n",
    "plt.imshow(myImage)"
   ]
  },
  {
   "cell_type": "code",
   "execution_count": 100,
   "metadata": {
    "scrolled": true
   },
   "outputs": [
    {
     "name": "stdout",
     "output_type": "stream",
     "text": [
      "It is a 6\n"
     ]
    }
   ],
   "source": [
    "# Predicting from image input outside MNIST test sets\n",
    "prediction = model.predict(newImage)\n",
    "predictImage = np.argmax(prediction)\n",
    "print(\"It is a\",predictImage)"
   ]
  },
  {
   "cell_type": "markdown",
   "metadata": {},
   "source": [
    "### THANK YOU "
   ]
  }
 ],
 "metadata": {
  "interpreter": {
   "hash": "393b74d2ed03d6566f50a4a4b0f94805646cd5a761c1fd6db9154c1450f37d61"
  },
  "kernelspec": {
   "display_name": "Python 3",
   "language": "python",
   "name": "python3"
  },
  "language_info": {
   "codemirror_mode": {
    "name": "ipython",
    "version": 3
   },
   "file_extension": ".py",
   "mimetype": "text/x-python",
   "name": "python",
   "nbconvert_exporter": "python",
   "pygments_lexer": "ipython3",
   "version": "3.8.8"
  }
 },
 "nbformat": 4,
 "nbformat_minor": 2
}
