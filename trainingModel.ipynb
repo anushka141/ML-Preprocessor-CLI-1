{
 "cells": [
  {
   "cell_type": "markdown",
   "metadata": {},
   "source": [
    "# Import the libraries and load the MNIST dataset"
   ]
  },
  {
   "cell_type": "markdown",
   "metadata": {},
   "source": [
    "### Traning samples: 60000       |              Testing samples: 10000 "
   ]
  },
  {
   "cell_type": "code",
   "execution_count": 1,
   "metadata": {},
   "outputs": [],
   "source": [
    "# Importing the necessary modules\n",
    "import numpy as np\n",
    "import pandas as pd\n",
    "import tensorflow as tf \n",
    "from tensorflow.keras.layers import Flatten, Dense, Conv2D \n",
    "from tensorflow.keras.layers import MaxPooling2D, Dropout \n",
    "from tensorflow.keras import Sequential\n",
    "from tensorflow.keras.datasets import mnist\n",
    "import matplotlib.pyplot as plt"
   ]
  },
  {
   "cell_type": "code",
   "execution_count": 2,
   "metadata": {},
   "outputs": [],
   "source": [
    "# Importing the MNIST dataset from keras library\n",
    "data = tf.keras.datasets.mnist"
   ]
  },
  {
   "cell_type": "code",
   "execution_count": 3,
   "metadata": {},
   "outputs": [],
   "source": [
    "# Splitting the MNIST dataset into training and testing sets\n",
    "(x_train, y_train), (x_test, y_test) = data.load_data()"
   ]
  },
  {
   "cell_type": "markdown",
   "metadata": {},
   "source": [
    "# Preprocess the data"
   ]
  },
  {
   "cell_type": "code",
   "execution_count": 6,
   "metadata": {},
   "outputs": [
    {
     "name": "stdout",
     "output_type": "stream",
     "text": [
      "[[  0   0   0   0   0   0   0   0   0   0   0   0   0   0   0   0   0   0\n",
      "    0   0   0   0   0   0   0   0   0   0]\n",
      " [  0   0   0   0   0   0   0   0   0   0   0   0   0   0   0   0   0   0\n",
      "    0   0   0   0   0   0   0   0   0   0]\n",
      " [  0   0   0   0   0   0   0   0   0   0   0   0   0   0   0   0   0   0\n",
      "    0   0   0   0   0   0   0   0   0   0]\n",
      " [  0   0   0   0   0   0   0   0   0   0   0   0   0   0   0   0   0   0\n",
      "    0   0   0   0   0   0   0   0   0   0]\n",
      " [  0   0   0   0   0   0   0   0   0   0   0   0   0   0   0   0   0   0\n",
      "    0   0   0   0   0   0   0   0   0   0]\n",
      " [  0   0   0   0   0   0   0   0   0   0  68  45 131 131 131 101  68  92\n",
      "   44   0   0   0   0   0   0   0   0   0]\n",
      " [  0   0   0   0   0   0   0   0   0   0   0   0   0   0   0   0   0   0\n",
      "   19 170   0   0   0   0   0   0   0   0]\n",
      " [  0   0   0   0   0   0   0   0   0   0   0   0   0   0  29 112  89   0\n",
      "   40 222   0   0   0   0   0   0   0   0]\n",
      " [  0   0   0   0   0   0   0   0   0   0   0   0   0   0 120 254 251 127\n",
      "   40 222   0   0   0   0   0   0   0   0]\n",
      " [  0   0   0   0   0   0   0   0   0   0   0   0   0   0 197 254 254  91\n",
      "   40 222   0   0   0   0   0   0   0   0]\n",
      " [  0   0   0   0   0   0   0   0   0   0   0   0   0  64 247 254 236  50\n",
      "   40 107   0   0   0   0   0   0   0   0]\n",
      " [  0   0   0   0   0   0   0   0   0   0   0   0   0 184 254 254  91   0\n",
      "    6  14   0   0   0   0   0   0   0   0]\n",
      " [  0   0   0   0   0   0   0   0   0   0   0   0   0 203 254 254  71   0\n",
      "    0   0   0   0   0   0   0   0   0   0]\n",
      " [  0   0   0   0   0   0   0   0   0   0   0   0  23 218 254 254  71   0\n",
      "    0   0   0   0   0   0   0   0   0   0]\n",
      " [  0   0   0   0   0   0   0   0   0   0   0   0 113 254 255 239  53   0\n",
      "    0   0   0   0   0   0   0   0   0   0]\n",
      " [  0   0   0   0   0   0   0   0   0   0   0   0 210 254 254 195   0   0\n",
      "    0   0   0   0   0   0   0   0   0   0]\n",
      " [  0   0   0   0   0   0   0   0   0   0   0  62 242 254 241  88   0   0\n",
      "    0  28   0   0   0   0   0   0   0   0]\n",
      " [  0   0   0   0   0   0   0   0   0   0   0  86 254 254 189   0   0   0\n",
      "   28 104   0   0   0   0   0   0   0   0]\n",
      " [  0   0   0   0   0   0   0   0   0   0   0 106 254 254 168   0   0   0\n",
      "   40  91   0   0   0   0   0   0   0   0]\n",
      " [  0   0   0   0   0   0   0   0   0   0   0 216 254 245  51   0   0   0\n",
      "   35  80   0   0   0   0   0   0   0   0]\n",
      " [  0   0   0   0   0   0   0   0   0   0   0 216 254 102   0   0   0   0\n",
      "    0   0   0   0   0   0   0   0   0   0]\n",
      " [  0   0   0   0   0   0   0   0   0   0  55 239 254  52   0   0   0   0\n",
      "    0   0   0   0   0   0   0   0   0   0]\n",
      " [  0   0   0   0   0   0   0   0   0   0 166 254 210  23   0   0   0   0\n",
      "    0   0   0   0   0   0   0   0   0   0]\n",
      " [  0   0   0   0   0   0   0   0   0   0 223 252 104   0   0   0   0   0\n",
      "    0   0   0   0   0   0   0   0   0   0]\n",
      " [  0   0   0   0   0   0   0   0   0   0 223 169   0   0   0   0   0   0\n",
      "    0   0   0   0   0   0   0   0   0   0]\n",
      " [  0   0   0   0   0   0   0   0   0   0   0   0   0   0   0   0   0   0\n",
      "    0   0   0   0   0   0   0   0   0   0]\n",
      " [  0   0   0   0   0   0   0   0   0   0   0   0   0   0   0   0   0   0\n",
      "    0   0   0   0   0   0   0   0   0   0]\n",
      " [  0   0   0   0   0   0   0   0   0   0   0   0   0   0   0   0   0   0\n",
      "    0   0   0   0   0   0   0   0   0   0]]\n"
     ]
    }
   ],
   "source": [
    "# Checking the values of each pixel of any random index before normalising the training set\n",
    "print(x_train[67])"
   ]
  },
  {
   "cell_type": "code",
   "execution_count": 7,
   "metadata": {},
   "outputs": [
    {
     "data": {
      "text/plain": [
       "255"
      ]
     },
     "execution_count": 7,
     "metadata": {},
     "output_type": "execute_result"
    }
   ],
   "source": [
    "# Checking maximum value of the channel to know if images are in gray level\n",
    "x_train.max()"
   ]
  },
  {
   "cell_type": "code",
   "execution_count": 8,
   "metadata": {},
   "outputs": [],
   "source": [
    "# Normalizing \n",
    "x_train = tf.keras.utils.normalize(x_train, axis = 1)\n",
    "x_test = tf.keras.utils.normalize(x_test, axis = 1)"
   ]
  },
  {
   "cell_type": "code",
   "execution_count": 9,
   "metadata": {},
   "outputs": [
    {
     "name": "stdout",
     "output_type": "stream",
     "text": [
      "[[0.         0.         0.         0.         0.         0.\n",
      "  0.         0.         0.         0.         0.         0.\n",
      "  0.         0.         0.         0.         0.         0.\n",
      "  0.         0.         0.         0.         0.         0.\n",
      "  0.         0.         0.         0.        ]\n",
      " [0.         0.         0.         0.         0.         0.\n",
      "  0.         0.         0.         0.         0.         0.\n",
      "  0.         0.         0.         0.         0.         0.\n",
      "  0.         0.         0.         0.         0.         0.\n",
      "  0.         0.         0.         0.        ]\n",
      " [0.         0.         0.         0.         0.         0.\n",
      "  0.         0.         0.         0.         0.         0.\n",
      "  0.         0.         0.         0.         0.         0.\n",
      "  0.         0.         0.         0.         0.         0.\n",
      "  0.         0.         0.         0.        ]\n",
      " [0.         0.         0.         0.         0.         0.\n",
      "  0.         0.         0.         0.         0.         0.\n",
      "  0.         0.         0.         0.         0.         0.\n",
      "  0.         0.         0.         0.         0.         0.\n",
      "  0.         0.         0.         0.        ]\n",
      " [0.         0.         0.         0.         0.         0.\n",
      "  0.         0.         0.         0.         0.         0.\n",
      "  0.         0.         0.         0.         0.         0.\n",
      "  0.         0.         0.         0.         0.         0.\n",
      "  0.         0.         0.         0.        ]\n",
      " [0.         0.         0.         0.         0.         0.\n",
      "  0.         0.         0.         0.         0.         0.\n",
      "  0.         0.         0.         0.         0.         0.\n",
      "  0.         0.         0.03117587 0.45018348 0.7331795  0.8459256\n",
      "  0.         0.         0.         0.        ]\n",
      " [0.         0.         0.         0.         0.         0.\n",
      "  0.         0.         0.         0.         0.         0.\n",
      "  0.         0.         0.         0.         0.         0.\n",
      "  0.         0.16859145 0.32614753 0.62238481 0.66704959 0.53330092\n",
      "  0.         0.         0.         0.        ]\n",
      " [0.         0.         0.         0.         0.         0.\n",
      "  0.         0.         0.         0.         0.         0.\n",
      "  0.         0.         0.         0.         0.         0.\n",
      "  0.16208871 0.45084006 0.60673033 0.61008472 0.13225983 0.\n",
      "  0.         0.         0.         0.        ]\n",
      " [0.         0.         0.         0.         0.         0.\n",
      "  0.         0.         0.01882619 0.17503039 0.11603991 0.\n",
      "  0.         0.         0.         0.         0.         0.01423579\n",
      "  0.32899195 0.47925435 0.55397117 0.1943415  0.         0.\n",
      "  0.         0.         0.         0.        ]\n",
      " [0.         0.         0.         0.         0.         0.\n",
      "  0.         0.09913097 0.38698271 0.512589   0.20113584 0.\n",
      "  0.         0.         0.         0.         0.         0.11000382\n",
      "  0.13801613 0.43568577 0.44605471 0.         0.         0.\n",
      "  0.         0.         0.         0.        ]\n",
      " [0.         0.         0.         0.         0.         0.\n",
      "  0.04369476 0.42773179 0.34096315 0.11460323 0.         0.\n",
      "  0.         0.         0.         0.         0.         0.08153224\n",
      "  0.25035485 0.43758006 0.13669418 0.         0.         0.\n",
      "  0.         0.         0.         0.        ]\n",
      " [0.         0.         0.         0.         0.02552568 0.25084575\n",
      "  0.23864063 0.38183783 0.04811136 0.         0.         0.\n",
      "  0.         0.         0.         0.         0.         0.27695079\n",
      "  0.40602421 0.26709432 0.         0.         0.         0.\n",
      "  0.         0.         0.         0.        ]\n",
      " [0.         0.         0.         0.         0.39990225 0.47010352\n",
      "  0.42518366 0.12299584 0.         0.         0.         0.\n",
      "  0.         0.         0.         0.         0.08699889 0.28859825\n",
      "  0.40602421 0.24436289 0.         0.         0.         0.\n",
      "  0.         0.         0.         0.        ]\n",
      " [0.         0.         0.         0.         0.39990225 0.47010352\n",
      "  0.42518366 0.12299584 0.         0.         0.         0.\n",
      "  0.         0.         0.         0.         0.07520243 0.24330256\n",
      "  0.40602421 0.16101431 0.         0.         0.         0.\n",
      "  0.         0.         0.         0.        ]\n",
      " [0.         0.         0.         0.         0.58709054 0.47010352\n",
      "  0.42518366 0.26985654 0.01045899 0.         0.         0.\n",
      "  0.         0.         0.         0.07998068 0.05603318 0.30930485\n",
      "  0.32899195 0.01894286 0.         0.         0.         0.\n",
      "  0.         0.         0.         0.        ]\n",
      " [0.         0.         0.         0.         0.57858198 0.47010352\n",
      "  0.42518366 0.46444697 0.4099925  0.20628582 0.03094397 0.\n",
      "  0.         0.17421888 0.1806877  0.31822101 0.31702984 0.3248348\n",
      "  0.28084678 0.         0.         0.         0.         0.\n",
      "  0.         0.         0.         0.        ]\n",
      " [0.         0.         0.         0.         0.00850856 0.23040647\n",
      "  0.4235031  0.46444697 0.52922501 0.52717486 0.64466614 0.70082479\n",
      "  0.70082479 0.71972391 0.77175087 0.43053431 0.37306302 0.32742313\n",
      "  0.25356452 0.         0.         0.         0.         0.\n",
      "  0.         0.         0.         0.        ]\n",
      " [0.         0.         0.         0.         0.         0.\n",
      "  0.19662644 0.3561372  0.52922501 0.52717486 0.65240213 0.71208302\n",
      "  0.71208302 0.67117111 0.60943819 0.43053431 0.37306302 0.22000763\n",
      "  0.07542742 0.         0.         0.         0.         0.\n",
      "  0.         0.         0.         0.        ]\n",
      " [0.         0.         0.         0.         0.         0.\n",
      "  0.         0.00917879 0.05438676 0.30838688 0.32233307 0.04221836\n",
      "  0.04221836 0.03427257 0.01837502 0.0918927  0.37306302 0.23812591\n",
      "  0.06258871 0.         0.         0.         0.         0.\n",
      "  0.         0.         0.         0.        ]\n",
      " [0.         0.         0.         0.         0.         0.\n",
      "  0.         0.         0.         0.         0.         0.\n",
      "  0.         0.         0.         0.0204206  0.26099666 0.32742313\n",
      "  0.11554839 0.         0.         0.         0.         0.\n",
      "  0.         0.         0.         0.        ]\n",
      " [0.         0.         0.         0.         0.         0.\n",
      "  0.         0.         0.         0.         0.         0.\n",
      "  0.         0.         0.         0.23653861 0.34947011 0.32742313\n",
      "  0.11554839 0.         0.         0.         0.         0.\n",
      "  0.         0.         0.         0.        ]\n",
      " [0.         0.         0.         0.         0.         0.\n",
      "  0.         0.         0.         0.         0.         0.\n",
      "  0.         0.         0.         0.33013303 0.37306302 0.30024571\n",
      "  0.03851613 0.         0.         0.         0.         0.\n",
      "  0.         0.         0.         0.        ]\n",
      " [0.         0.         0.         0.         0.         0.\n",
      "  0.         0.         0.         0.         0.         0.\n",
      "  0.         0.         0.         0.34544848 0.27426768 0.17212362\n",
      "  0.         0.         0.         0.         0.         0.\n",
      "  0.         0.         0.         0.        ]\n",
      " [0.         0.         0.         0.         0.         0.\n",
      "  0.         0.         0.         0.         0.         0.\n",
      "  0.         0.         0.         0.42372745 0.24625109 0.11906295\n",
      "  0.         0.         0.         0.         0.         0.\n",
      "  0.         0.         0.         0.        ]\n",
      " [0.         0.         0.         0.         0.         0.\n",
      "  0.         0.         0.         0.         0.         0.\n",
      "  0.         0.         0.         0.22122316 0.01769469 0.\n",
      "  0.         0.         0.         0.         0.         0.\n",
      "  0.         0.         0.         0.        ]\n",
      " [0.         0.         0.         0.         0.         0.\n",
      "  0.         0.         0.         0.         0.         0.\n",
      "  0.         0.         0.         0.         0.         0.\n",
      "  0.         0.         0.         0.         0.         0.\n",
      "  0.         0.         0.         0.        ]\n",
      " [0.         0.         0.         0.         0.         0.\n",
      "  0.         0.         0.         0.         0.         0.\n",
      "  0.         0.         0.         0.         0.         0.\n",
      "  0.         0.         0.         0.         0.         0.\n",
      "  0.         0.         0.         0.        ]\n",
      " [0.         0.         0.         0.         0.         0.\n",
      "  0.         0.         0.         0.         0.         0.\n",
      "  0.         0.         0.         0.         0.         0.\n",
      "  0.         0.         0.         0.         0.         0.\n",
      "  0.         0.         0.         0.        ]]\n"
     ]
    }
   ],
   "source": [
    "# Checking the values of each pixel after normalizing the sets\n",
    "print(x_test[67])"
   ]
  },
  {
   "cell_type": "code",
   "execution_count": 10,
   "metadata": {},
   "outputs": [
    {
     "name": "stdout",
     "output_type": "stream",
     "text": [
      "(60000, 28, 28)\n",
      "(10000, 28, 28)\n"
     ]
    }
   ],
   "source": [
    "# Checking the shape of the data sets\n",
    "print(x_train.shape)\n",
    "print(x_test.shape)"
   ]
  },
  {
   "cell_type": "code",
   "execution_count": 11,
   "metadata": {},
   "outputs": [],
   "source": [
    "# In order to make images 4D, we need to reshape them\n",
    "# Reshaping image in order to suit it for convolution operation\n",
    "input_shape = [28, 28, 1]\n",
    "x_train = x_train.reshape(len(x_train), input_shape[0], input_shape[1], input_shape[2])\n",
    "x_test = x_test.reshape(len(x_test), input_shape[0], input_shape[1], input_shape[2])"
   ]
  },
  {
   "cell_type": "code",
   "execution_count": 12,
   "metadata": {},
   "outputs": [
    {
     "name": "stdout",
     "output_type": "stream",
     "text": [
      "(60000, 28, 28, 1)\n",
      "(10000, 28, 28, 1)\n"
     ]
    }
   ],
   "source": [
    "# Checking the shape of the data sets after reshaping\n",
    "print(x_train.shape)\n",
    "print(x_test.shape)"
   ]
  },
  {
   "cell_type": "markdown",
   "metadata": {},
   "source": [
    "# Create the model"
   ]
  },
  {
   "cell_type": "code",
   "execution_count": 13,
   "metadata": {},
   "outputs": [
    {
     "name": "stdout",
     "output_type": "stream",
     "text": [
      "Model: \"sequential\"\n",
      "_________________________________________________________________\n",
      " Layer (type)                Output Shape              Param #   \n",
      "=================================================================\n",
      " conv2d (Conv2D)             (None, 28, 28, 64)        640       \n",
      "                                                                 \n",
      " max_pooling2d (MaxPooling2D  (None, 14, 14, 64)       0         \n",
      " )                                                               \n",
      "                                                                 \n",
      " conv2d_1 (Conv2D)           (None, 12, 12, 64)        36928     \n",
      "                                                                 \n",
      " max_pooling2d_1 (MaxPooling  (None, 6, 6, 64)         0         \n",
      " 2D)                                                             \n",
      "                                                                 \n",
      " conv2d_2 (Conv2D)           (None, 4, 4, 64)          36928     \n",
      "                                                                 \n",
      " max_pooling2d_2 (MaxPooling  (None, 2, 2, 64)         0         \n",
      " 2D)                                                             \n",
      "                                                                 \n",
      " flatten (Flatten)           (None, 256)               0         \n",
      "                                                                 \n",
      " dropout (Dropout)           (None, 256)               0         \n",
      "                                                                 \n",
      " dense (Dense)               (None, 64)                16448     \n",
      "                                                                 \n",
      " dense_1 (Dense)             (None, 128)               8320      \n",
      "                                                                 \n",
      " dense_2 (Dense)             (None, 10)                1290      \n",
      "                                                                 \n",
      "=================================================================\n",
      "Total params: 100,554\n",
      "Trainable params: 100,554\n",
      "Non-trainable params: 0\n",
      "_________________________________________________________________\n"
     ]
    }
   ],
   "source": [
    "# Creating a neural network\n",
    "model = Sequential()\n",
    "\n",
    "# First CNN layer\n",
    "model.add(Conv2D(filters=64, kernel_size=(3,3), padding='same', activation='relu', input_shape=[28, 28, 1]))\n",
    "model.add(MaxPooling2D(pool_size=(2,2), strides=2, padding='valid'))\n",
    "\n",
    "# Second CNN layer\n",
    "model.add(Conv2D(64, (3,3), activation='relu'))\n",
    "model.add(MaxPooling2D(pool_size=(2,2)))\n",
    "\n",
    "# Third CNN layer\n",
    "model.add(Conv2D(64, (3,3), activation='relu'))\n",
    "model.add(MaxPooling2D(pool_size=(2,2)))\n",
    "\n",
    "# Fully connected layers \n",
    "model.add(Flatten())\n",
    "model.add(Dropout(0.5)) #Regularizing\n",
    "model.add(tf.keras.layers.Dense(64, activation='relu'))\n",
    "model.add(tf.keras.layers.Dense(128,activation='relu'))\n",
    "model.add(tf.keras.layers.Dense(10,activation='softmax'))\n",
    "\n",
    "# Summarizing the performance of the model\n",
    "model.summary()"
   ]
  },
  {
   "cell_type": "code",
   "execution_count": 14,
   "metadata": {},
   "outputs": [],
   "source": [
    "# Compiling the model\n",
    "model.compile(optimizer='adam', loss='sparse_categorical_crossentropy', metrics=['accuracy'])"
   ]
  },
  {
   "cell_type": "markdown",
   "metadata": {},
   "source": [
    "# Train the model "
   ]
  },
  {
   "cell_type": "code",
   "execution_count": 15,
   "metadata": {
    "scrolled": true
   },
   "outputs": [
    {
     "name": "stdout",
     "output_type": "stream",
     "text": [
      "Epoch 1/15\n",
      "4200/4200 [==============================] - 57s 13ms/step - loss: 0.3051 - accuracy: 0.9035 - val_loss: 0.0739 - val_accuracy: 0.9780\n",
      "Epoch 2/15\n",
      "4200/4200 [==============================] - 55s 13ms/step - loss: 0.1178 - accuracy: 0.9644 - val_loss: 0.0522 - val_accuracy: 0.9847\n",
      "Epoch 3/15\n",
      "4200/4200 [==============================] - 56s 13ms/step - loss: 0.0891 - accuracy: 0.9739 - val_loss: 0.0478 - val_accuracy: 0.9855\n",
      "Epoch 4/15\n",
      "4200/4200 [==============================] - 54s 13ms/step - loss: 0.0734 - accuracy: 0.9779 - val_loss: 0.0545 - val_accuracy: 0.9847\n",
      "Epoch 5/15\n",
      "4200/4200 [==============================] - 54s 13ms/step - loss: 0.0650 - accuracy: 0.9801 - val_loss: 0.0368 - val_accuracy: 0.9897\n",
      "Epoch 6/15\n",
      "4200/4200 [==============================] - 59s 14ms/step - loss: 0.0592 - accuracy: 0.9815 - val_loss: 0.0397 - val_accuracy: 0.9893\n",
      "Epoch 7/15\n",
      "4200/4200 [==============================] - 59s 14ms/step - loss: 0.0557 - accuracy: 0.9833 - val_loss: 0.0383 - val_accuracy: 0.9886\n",
      "Epoch 8/15\n",
      "4200/4200 [==============================] - 61s 14ms/step - loss: 0.0507 - accuracy: 0.9844 - val_loss: 0.0434 - val_accuracy: 0.9877\n",
      "Epoch 9/15\n",
      "4200/4200 [==============================] - 58s 14ms/step - loss: 0.0484 - accuracy: 0.9850 - val_loss: 0.0403 - val_accuracy: 0.9888\n",
      "Epoch 10/15\n",
      "4200/4200 [==============================] - 56s 13ms/step - loss: 0.0449 - accuracy: 0.9866 - val_loss: 0.0366 - val_accuracy: 0.9901\n",
      "Epoch 11/15\n",
      "4200/4200 [==============================] - 56s 13ms/step - loss: 0.0434 - accuracy: 0.9870 - val_loss: 0.0387 - val_accuracy: 0.9902\n",
      "Epoch 12/15\n",
      "4200/4200 [==============================] - 61s 15ms/step - loss: 0.0405 - accuracy: 0.9877 - val_loss: 0.0406 - val_accuracy: 0.9897\n",
      "Epoch 13/15\n",
      "4200/4200 [==============================] - 58s 14ms/step - loss: 0.0386 - accuracy: 0.9885 - val_loss: 0.0479 - val_accuracy: 0.9889\n",
      "Epoch 14/15\n",
      "4200/4200 [==============================] - 61s 15ms/step - loss: 0.0390 - accuracy: 0.9889 - val_loss: 0.0463 - val_accuracy: 0.9893\n",
      "Epoch 15/15\n",
      "4200/4200 [==============================] - 64s 15ms/step - loss: 0.0379 - accuracy: 0.9884 - val_loss: 0.0368 - val_accuracy: 0.9912\n"
     ]
    }
   ],
   "source": [
    "# Training the model\n",
    "history = model.fit(x_train, y_train, batch_size=10, epochs=15, validation_data=(x_test, y_test), validation_split=0.3)"
   ]
  },
  {
   "cell_type": "markdown",
   "metadata": {},
   "source": [
    "# Save the model"
   ]
  },
  {
   "cell_type": "code",
   "execution_count": 16,
   "metadata": {},
   "outputs": [
    {
     "name": "stdout",
     "output_type": "stream",
     "text": [
      "Model is saved successfully.\n"
     ]
    }
   ],
   "source": [
    "# Saving our trained model\n",
    "model.save('Handwritten.keras')\n",
    "print(\"Model is saved successfully.\")"
   ]
  },
  {
   "cell_type": "markdown",
   "metadata": {},
   "source": [
    "# Evaluate the model using MNIST test samples"
   ]
  },
  {
   "cell_type": "code",
   "execution_count": 17,
   "metadata": {},
   "outputs": [
    {
     "name": "stdout",
     "output_type": "stream",
     "text": [
      "[LOSS]:  0.03052486851811409\n",
      "[ACCURACY]:  0.9919000267982483\n"
     ]
    }
   ],
   "source": [
    "performance = model.evaluate(x_test, y_test, verbose=0)\n",
    "loss = performance[0]\n",
    "accuracy = performance[1]\n",
    "print(\"[LOSS]: \",loss)\n",
    "print(\"[ACCURACY]: \",accuracy)"
   ]
  },
  {
   "cell_type": "code",
   "execution_count": 18,
   "metadata": {},
   "outputs": [],
   "source": [
    "# Prediction\n",
    "prediction = model.predict(x_test)"
   ]
  },
  {
   "cell_type": "code",
   "execution_count": 19,
   "metadata": {},
   "outputs": [
    {
     "name": "stdout",
     "output_type": "stream",
     "text": [
      "5\n"
     ]
    }
   ],
   "source": [
    "# Predicting taking random index inputs\n",
    "predictionMax = np.argmax(prediction[127])\n",
    "\n",
    "print(predictionMax)"
   ]
  },
  {
   "cell_type": "code",
   "execution_count": 20,
   "metadata": {},
   "outputs": [
    {
     "name": "stdout",
     "output_type": "stream",
     "text": [
      "It's a  5\n"
     ]
    },
    {
     "data": {
      "image/png": "[encoded data removed]",
      "text/plain": [
       "<Figure size 432x288 with 1 Axes>"
      ]
     },
     "metadata": {
      "needs_background": "light"
     },
     "output_type": "display_data"
    }
   ],
   "source": [
    "# Checking whether the O/P is correct or not by plotting the image at index 127\n",
    "plt.imshow(x_test[127])\n",
    "print(\"It's a \",predictionMax)"
   ]
  }
 ],
 "metadata": {
  "interpreter": {
   "hash": "74b0a38879f80463ab999397bfa9db9d3cd5fd53c7393138d0c98665aeeeaeaa"
  },
  "kernelspec": {
   "display_name": "Python 3",
   "language": "python",
   "name": "python3"
  },
  "language_info": {
   "codemirror_mode": {
    "name": "ipython",
    "version": 3
   },
   "file_extension": ".py",
   "mimetype": "text/x-python",
   "name": "python",
   "nbconvert_exporter": "python",
   "pygments_lexer": "ipython3",
   "version": "3.8.8"
  }
 },
 "nbformat": 4,
 "nbformat_minor": 2
}
